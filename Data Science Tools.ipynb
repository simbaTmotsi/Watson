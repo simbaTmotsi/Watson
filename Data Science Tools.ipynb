{
 "cells": [
  {
   "cell_type": "markdown",
   "id": "1ca434d1",
   "metadata": {},
   "source": [
    "<h1>My Jupyter Notebook on IBM Watson Studio</h1>"
   ]
  },
  {
   "cell_type": "markdown",
   "id": "0e4cdbdf",
   "metadata": {},
   "source": [
    "<b>Simbarashe Timothy Motsi</b>\n",
    "<br/>\n",
    "Machine Learning Engineer"
   ]
  },
  {
   "cell_type": "markdown",
   "id": "27213d60",
   "metadata": {},
   "source": [
    "<i>Data science allows you to deals with vast volumes of data using modern tools and techniques to find unseen patterns.</i>"
   ]
  },
  {
   "cell_type": "markdown",
   "id": "ca4606cd",
   "metadata": {},
   "source": [
    "<h3>Executed and must display an output</h3>"
   ]
  },
  {
   "cell_type": "code",
   "execution_count": 2,
   "id": "ab210cb0",
   "metadata": {},
   "outputs": [
    {
     "data": {
      "text/plain": [
       "10"
      ]
     },
     "execution_count": 2,
     "metadata": {},
     "output_type": "execute_result"
    }
   ],
   "source": [
    "def add(number_1, number_2):\n",
    "    ans = int(number_1) + int(number_2)\n",
    "    return ans\n",
    "\n",
    "add(5,5)"
   ]
  },
  {
   "cell_type": "markdown",
   "id": "13bf6e21",
   "metadata": {},
   "source": [
    "<b>Python allows you to:</b>\n",
    "<ul>\n",
    "    <li> Work in cool new fields</li>\n",
    "    <li> Try out more exciting things</li>\n",
    "</ul>\n",
    "\n",
    "<b>supported numeric data types</b>\n",
    "<ol>\n",
    "    <li>int</li>\n",
    "    <li>long</li>\n",
    "    <li>float</li>\n",
    "    <li>complex</li>\n",
    "<ol>\n",
    "<br>\n",
    "Python functions are flexible\n",
    "<br>\n",
    "<code>\n",
    "def sample_function(input_parameter):\n",
    "    pass\n",
    "</code>"
   ]
  },
  {
   "cell_type": "code",
   "execution_count": null,
   "id": "3a8ae3ed",
   "metadata": {},
   "outputs": [],
   "source": []
  }
 ],
 "metadata": {
  "kernelspec": {
   "display_name": "Python 3",
   "language": "python",
   "name": "python3"
  },
  "language_info": {
   "codemirror_mode": {
    "name": "ipython",
    "version": 3
   },
   "file_extension": ".py",
   "mimetype": "text/x-python",
   "name": "python",
   "nbconvert_exporter": "python",
   "pygments_lexer": "ipython3",
   "version": "3.7.6"
  }
 },
 "nbformat": 4,
 "nbformat_minor": 5
}
